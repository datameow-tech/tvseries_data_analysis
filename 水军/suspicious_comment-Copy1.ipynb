{
 "cells": [
  {
   "cell_type": "code",
   "execution_count": 1,
   "metadata": {},
   "outputs": [],
   "source": [
    "import pandas as pd\n",
    "import numpy as np\n",
    "import random\n",
    "import re\n",
    "import matplotlib as mpl\n",
    "import matplotlib.pyplot as plt\n",
    "import matplotlib.colors as mcolors\n",
    "import scipy.cluster.hierarchy as shc\n",
    "from matplotlib import cm\n",
    "from collections import defaultdict, Counter\n",
    "from sklearn.metrics.pairwise import cosine_similarity\n",
    "from sklearn.feature_extraction.text import CountVectorizer\n",
    "from sklearn.cluster import AgglomerativeClustering\n",
    "font_name = \"simsun\"\n",
    "mpl.rcParams['font.family']=font_name\n",
    "mpl.rcParams['axes.unicode_minus']=False\n",
    "plt.style.use('ggplot')"
   ]
  },
  {
   "cell_type": "code",
   "execution_count": 52,
   "metadata": {},
   "outputs": [],
   "source": [
    "#需要改成自己的file path\n",
    "data = pd.read_csv(\"\")"
   ]
  },
  {
   "cell_type": "code",
   "execution_count": 53,
   "metadata": {},
   "outputs": [
    {
     "data": {
      "text/plain": [
       "(1644970, 7)"
      ]
     },
     "execution_count": 53,
     "metadata": {},
     "output_type": "execute_result"
    }
   ],
   "source": [
    "data.shape"
   ]
  },
  {
   "cell_type": "code",
   "execution_count": 54,
   "metadata": {},
   "outputs": [
    {
     "data": {
      "text/plain": [
       "(571708, 7)"
      ]
     },
     "execution_count": 54,
     "metadata": {},
     "output_type": "execute_result"
    }
   ],
   "source": [
    "# remove data samples without comment: evaluations without comment may not contribute to final movie score.\n",
    "data = data.loc[~data[\"comment\"].isnull()]\n",
    "data = data.drop_duplicates([\"uid\", \"name\"])\n",
    "data.shape"
   ]
  },
  {
   "cell_type": "code",
   "execution_count": 55,
   "metadata": {},
   "outputs": [],
   "source": [
    "data.name = data.name.str.replace(' ', '')"
   ]
  },
  {
   "cell_type": "code",
   "execution_count": 56,
   "metadata": {},
   "outputs": [],
   "source": [
    "def new_name(row):\n",
    "    name = re.sub('\\W+','', row[\"name\"])\n",
    "    date = row[\"date\"]\n",
    "    date = date.replace(\"-\", \"\")\n",
    "    if row[\"rating\"] in {4, 5}:\n",
    "        level = \"High\"\n",
    "    elif row[\"rating\"] in {1, 2}:\n",
    "        level = \"Low\"\n",
    "    else:\n",
    "        level = \"Medium\"\n",
    "    return \"\".join([name, level])\n",
    "data[\"name\"] = data.apply(lambda x: new_name(x), axis=1)"
   ]
  },
  {
   "cell_type": "code",
   "execution_count": 57,
   "metadata": {},
   "outputs": [
    {
     "data": {
      "text/plain": [
       "0                         重启之极海听雷High\n",
       "1                              局中人Low\n",
       "2                           隐秘的角落High\n",
       "3                            三千鸦杀High\n",
       "4                            霹雳侠峰High\n",
       "                      ...            \n",
       "1644932            情书LoveLetterMedium\n",
       "1644937            超脱DetachmentMedium\n",
       "1644942    大河恋ARiverRunsThroughItHigh\n",
       "1644957                    心花路放Medium\n",
       "1644958                     寻龙诀Medium\n",
       "Name: name, Length: 571708, dtype: object"
      ]
     },
     "execution_count": 57,
     "metadata": {},
     "output_type": "execute_result"
    }
   ],
   "source": [
    "data[\"name\"]"
   ]
  },
  {
   "cell_type": "code",
   "execution_count": 58,
   "metadata": {},
   "outputs": [],
   "source": [
    "frequencies = data[\"name\"].value_counts()"
   ]
  },
  {
   "cell_type": "code",
   "execution_count": null,
   "metadata": {},
   "outputs": [],
   "source": []
  },
  {
   "cell_type": "code",
   "execution_count": 59,
   "metadata": {},
   "outputs": [
    {
     "data": {
      "text/plain": [
       "20.177"
      ]
     },
     "execution_count": 59,
     "metadata": {},
     "output_type": "execute_result"
    }
   ],
   "source": [
    "threshold = len(set(data[\"name\"])) * 0.0005\n",
    "threshold"
   ]
  },
  {
   "cell_type": "code",
   "execution_count": 60,
   "metadata": {},
   "outputs": [
    {
     "data": {
      "text/plain": [
       "隐秘的角落High                                  6258\n",
       "重启之极海听雷High                                5910\n",
       "以家人之名High                                  4114\n",
       "穿越火线High                                   3555\n",
       "琉璃High                                     3103\n",
       "                                           ... \n",
       "遥望南方的童年High                                  21\n",
       "罪恶之家AnInspectorCallsHigh                     21\n",
       "海绵宝宝历险记TheSpongeBobSquarePantsMovieHigh      21\n",
       "无间道正序版High                                   21\n",
       "排球少年第四季ハイキューTOTHETOPHigh                     21\n",
       "Name: name, Length: 3715, dtype: int64"
      ]
     },
     "execution_count": 60,
     "metadata": {},
     "output_type": "execute_result"
    }
   ],
   "source": [
    "frequencies[frequencies > threshold]"
   ]
  },
  {
   "cell_type": "code",
   "execution_count": 61,
   "metadata": {},
   "outputs": [],
   "source": [
    "data = data.loc[data[\"name\"].isin(frequencies[frequencies > threshold].index)]"
   ]
  },
  {
   "cell_type": "code",
   "execution_count": 62,
   "metadata": {},
   "outputs": [
    {
     "data": {
      "text/plain": [
       "(457898, 7)"
      ]
     },
     "execution_count": 62,
     "metadata": {},
     "output_type": "execute_result"
    }
   ],
   "source": [
    "data.shape"
   ]
  },
  {
   "cell_type": "code",
   "execution_count": null,
   "metadata": {},
   "outputs": [],
   "source": []
  },
  {
   "cell_type": "code",
   "execution_count": 63,
   "metadata": {},
   "outputs": [],
   "source": [
    "data_dict = data.groupby(\"uid\").agg({\"name\": lambda x: ','.join(x)}).to_dict(orient=\"index\")"
   ]
  },
  {
   "cell_type": "code",
   "execution_count": 64,
   "metadata": {},
   "outputs": [],
   "source": [
    "doc_dict = dict()\n",
    "for uid, value in data_dict.items():\n",
    "    doc_dict[uid] = value[\"name\"].split(\",\")"
   ]
  },
  {
   "cell_type": "code",
   "execution_count": 66,
   "metadata": {},
   "outputs": [
    {
     "name": "stdout",
     "output_type": "stream",
     "text": [
      "[[0 0 0 ... 0 0 0]\n",
      " [0 0 0 ... 0 0 0]\n",
      " [0 0 0 ... 0 0 0]\n",
      " ...\n",
      " [0 0 0 ... 0 0 0]\n",
      " [0 0 0 ... 0 0 0]\n",
      " [0 0 0 ... 0 0 0]]\n"
     ]
    }
   ],
   "source": [
    "collect_history = defaultdict(set)\n",
    "for uid, value_list in doc_dict.items():\n",
    "    #value_list = sorted(value_list)\n",
    "    if len(value_list) >= 10:\n",
    "        collect_history[\", \".join(value_list)].add(uid)\n",
    "collect_keys = list(collect_history.keys())\n",
    "vectorizer = CountVectorizer()\n",
    "transformed_collect_history = vectorizer.fit_transform(collect_keys)\n",
    "print(transformed_collect_history.toarray())"
   ]
  },
  {
   "cell_type": "code",
   "execution_count": 68,
   "metadata": {},
   "outputs": [],
   "source": [
    "sim_df = cosine_similarity(transformed_collect_history.toarray())"
   ]
  },
  {
   "cell_type": "code",
   "execution_count": 69,
   "metadata": {},
   "outputs": [
    {
     "name": "stdout",
     "output_type": "stream",
     "text": [
      "17070\n"
     ]
    }
   ],
   "source": [
    "print(len(collect_keys))"
   ]
  },
  {
   "cell_type": "code",
   "execution_count": 70,
   "metadata": {},
   "outputs": [
    {
     "data": {
      "text/html": [
       "<div>\n",
       "<style scoped>\n",
       "    .dataframe tbody tr th:only-of-type {\n",
       "        vertical-align: middle;\n",
       "    }\n",
       "\n",
       "    .dataframe tbody tr th {\n",
       "        vertical-align: top;\n",
       "    }\n",
       "\n",
       "    .dataframe thead th {\n",
       "        text-align: right;\n",
       "    }\n",
       "</style>\n",
       "<table border=\"1\" class=\"dataframe\">\n",
       "  <thead>\n",
       "    <tr style=\"text-align: right;\">\n",
       "      <th></th>\n",
       "      <th>0</th>\n",
       "      <th>1</th>\n",
       "      <th>2</th>\n",
       "      <th>3</th>\n",
       "      <th>4</th>\n",
       "      <th>5</th>\n",
       "      <th>6</th>\n",
       "      <th>7</th>\n",
       "      <th>8</th>\n",
       "      <th>9</th>\n",
       "      <th>...</th>\n",
       "      <th>17060</th>\n",
       "      <th>17061</th>\n",
       "      <th>17062</th>\n",
       "      <th>17063</th>\n",
       "      <th>17064</th>\n",
       "      <th>17065</th>\n",
       "      <th>17066</th>\n",
       "      <th>17067</th>\n",
       "      <th>17068</th>\n",
       "      <th>17069</th>\n",
       "    </tr>\n",
       "  </thead>\n",
       "  <tbody>\n",
       "    <tr>\n",
       "      <th>0</th>\n",
       "      <td>1.000000</td>\n",
       "      <td>0.000000</td>\n",
       "      <td>0.043519</td>\n",
       "      <td>0.192847</td>\n",
       "      <td>0.130558</td>\n",
       "      <td>0.029013</td>\n",
       "      <td>0.029566</td>\n",
       "      <td>0.065795</td>\n",
       "      <td>0.000000</td>\n",
       "      <td>0.000000</td>\n",
       "      <td>...</td>\n",
       "      <td>0.000000</td>\n",
       "      <td>0.000000</td>\n",
       "      <td>0.000000</td>\n",
       "      <td>0.000000</td>\n",
       "      <td>0.037689</td>\n",
       "      <td>0.036564</td>\n",
       "      <td>0.031435</td>\n",
       "      <td>0.040291</td>\n",
       "      <td>0.0</td>\n",
       "      <td>0.047673</td>\n",
       "    </tr>\n",
       "    <tr>\n",
       "      <th>1</th>\n",
       "      <td>0.000000</td>\n",
       "      <td>1.000000</td>\n",
       "      <td>0.000000</td>\n",
       "      <td>0.113961</td>\n",
       "      <td>0.000000</td>\n",
       "      <td>0.000000</td>\n",
       "      <td>0.000000</td>\n",
       "      <td>0.000000</td>\n",
       "      <td>0.000000</td>\n",
       "      <td>0.000000</td>\n",
       "      <td>...</td>\n",
       "      <td>0.080582</td>\n",
       "      <td>0.000000</td>\n",
       "      <td>0.000000</td>\n",
       "      <td>0.000000</td>\n",
       "      <td>0.000000</td>\n",
       "      <td>0.000000</td>\n",
       "      <td>0.055728</td>\n",
       "      <td>0.000000</td>\n",
       "      <td>0.0</td>\n",
       "      <td>0.000000</td>\n",
       "    </tr>\n",
       "    <tr>\n",
       "      <th>2</th>\n",
       "      <td>0.043519</td>\n",
       "      <td>0.000000</td>\n",
       "      <td>1.000000</td>\n",
       "      <td>0.000000</td>\n",
       "      <td>0.083333</td>\n",
       "      <td>0.000000</td>\n",
       "      <td>0.056614</td>\n",
       "      <td>0.125988</td>\n",
       "      <td>0.000000</td>\n",
       "      <td>0.000000</td>\n",
       "      <td>...</td>\n",
       "      <td>0.087039</td>\n",
       "      <td>0.000000</td>\n",
       "      <td>0.072169</td>\n",
       "      <td>0.000000</td>\n",
       "      <td>0.000000</td>\n",
       "      <td>0.140028</td>\n",
       "      <td>0.000000</td>\n",
       "      <td>0.000000</td>\n",
       "      <td>0.0</td>\n",
       "      <td>0.091287</td>\n",
       "    </tr>\n",
       "    <tr>\n",
       "      <th>3</th>\n",
       "      <td>0.192847</td>\n",
       "      <td>0.113961</td>\n",
       "      <td>0.000000</td>\n",
       "      <td>1.000000</td>\n",
       "      <td>0.123091</td>\n",
       "      <td>0.041030</td>\n",
       "      <td>0.083624</td>\n",
       "      <td>0.046524</td>\n",
       "      <td>0.000000</td>\n",
       "      <td>0.000000</td>\n",
       "      <td>...</td>\n",
       "      <td>0.064282</td>\n",
       "      <td>0.000000</td>\n",
       "      <td>0.000000</td>\n",
       "      <td>0.000000</td>\n",
       "      <td>0.000000</td>\n",
       "      <td>0.000000</td>\n",
       "      <td>0.000000</td>\n",
       "      <td>0.056980</td>\n",
       "      <td>0.0</td>\n",
       "      <td>0.067420</td>\n",
       "    </tr>\n",
       "    <tr>\n",
       "      <th>4</th>\n",
       "      <td>0.130558</td>\n",
       "      <td>0.000000</td>\n",
       "      <td>0.083333</td>\n",
       "      <td>0.123091</td>\n",
       "      <td>1.000000</td>\n",
       "      <td>0.111111</td>\n",
       "      <td>0.113228</td>\n",
       "      <td>0.062994</td>\n",
       "      <td>0.000000</td>\n",
       "      <td>0.103695</td>\n",
       "      <td>...</td>\n",
       "      <td>0.000000</td>\n",
       "      <td>0.057735</td>\n",
       "      <td>0.072169</td>\n",
       "      <td>0.049507</td>\n",
       "      <td>0.144338</td>\n",
       "      <td>0.000000</td>\n",
       "      <td>0.000000</td>\n",
       "      <td>0.154303</td>\n",
       "      <td>0.0</td>\n",
       "      <td>0.228218</td>\n",
       "    </tr>\n",
       "    <tr>\n",
       "      <th>...</th>\n",
       "      <td>...</td>\n",
       "      <td>...</td>\n",
       "      <td>...</td>\n",
       "      <td>...</td>\n",
       "      <td>...</td>\n",
       "      <td>...</td>\n",
       "      <td>...</td>\n",
       "      <td>...</td>\n",
       "      <td>...</td>\n",
       "      <td>...</td>\n",
       "      <td>...</td>\n",
       "      <td>...</td>\n",
       "      <td>...</td>\n",
       "      <td>...</td>\n",
       "      <td>...</td>\n",
       "      <td>...</td>\n",
       "      <td>...</td>\n",
       "      <td>...</td>\n",
       "      <td>...</td>\n",
       "      <td>...</td>\n",
       "      <td>...</td>\n",
       "    </tr>\n",
       "    <tr>\n",
       "      <th>17065</th>\n",
       "      <td>0.036564</td>\n",
       "      <td>0.000000</td>\n",
       "      <td>0.140028</td>\n",
       "      <td>0.000000</td>\n",
       "      <td>0.000000</td>\n",
       "      <td>0.000000</td>\n",
       "      <td>0.000000</td>\n",
       "      <td>0.000000</td>\n",
       "      <td>0.000000</td>\n",
       "      <td>0.000000</td>\n",
       "      <td>...</td>\n",
       "      <td>0.000000</td>\n",
       "      <td>0.000000</td>\n",
       "      <td>0.060634</td>\n",
       "      <td>0.000000</td>\n",
       "      <td>0.060634</td>\n",
       "      <td>1.000000</td>\n",
       "      <td>0.050572</td>\n",
       "      <td>0.000000</td>\n",
       "      <td>0.0</td>\n",
       "      <td>0.038348</td>\n",
       "    </tr>\n",
       "    <tr>\n",
       "      <th>17066</th>\n",
       "      <td>0.031435</td>\n",
       "      <td>0.055728</td>\n",
       "      <td>0.000000</td>\n",
       "      <td>0.000000</td>\n",
       "      <td>0.000000</td>\n",
       "      <td>0.000000</td>\n",
       "      <td>0.000000</td>\n",
       "      <td>0.045502</td>\n",
       "      <td>0.000000</td>\n",
       "      <td>0.000000</td>\n",
       "      <td>...</td>\n",
       "      <td>0.000000</td>\n",
       "      <td>0.000000</td>\n",
       "      <td>0.104257</td>\n",
       "      <td>0.000000</td>\n",
       "      <td>0.000000</td>\n",
       "      <td>0.050572</td>\n",
       "      <td>1.000000</td>\n",
       "      <td>0.000000</td>\n",
       "      <td>0.0</td>\n",
       "      <td>0.000000</td>\n",
       "    </tr>\n",
       "    <tr>\n",
       "      <th>17067</th>\n",
       "      <td>0.040291</td>\n",
       "      <td>0.000000</td>\n",
       "      <td>0.000000</td>\n",
       "      <td>0.056980</td>\n",
       "      <td>0.154303</td>\n",
       "      <td>0.000000</td>\n",
       "      <td>0.000000</td>\n",
       "      <td>0.000000</td>\n",
       "      <td>0.000000</td>\n",
       "      <td>0.000000</td>\n",
       "      <td>...</td>\n",
       "      <td>0.000000</td>\n",
       "      <td>0.000000</td>\n",
       "      <td>0.000000</td>\n",
       "      <td>0.000000</td>\n",
       "      <td>0.066815</td>\n",
       "      <td>0.000000</td>\n",
       "      <td>0.000000</td>\n",
       "      <td>1.000000</td>\n",
       "      <td>0.0</td>\n",
       "      <td>0.000000</td>\n",
       "    </tr>\n",
       "    <tr>\n",
       "      <th>17068</th>\n",
       "      <td>0.000000</td>\n",
       "      <td>0.000000</td>\n",
       "      <td>0.000000</td>\n",
       "      <td>0.000000</td>\n",
       "      <td>0.000000</td>\n",
       "      <td>0.000000</td>\n",
       "      <td>0.059131</td>\n",
       "      <td>0.000000</td>\n",
       "      <td>0.000000</td>\n",
       "      <td>0.000000</td>\n",
       "      <td>...</td>\n",
       "      <td>0.000000</td>\n",
       "      <td>0.000000</td>\n",
       "      <td>0.000000</td>\n",
       "      <td>0.051709</td>\n",
       "      <td>0.000000</td>\n",
       "      <td>0.000000</td>\n",
       "      <td>0.000000</td>\n",
       "      <td>0.000000</td>\n",
       "      <td>1.0</td>\n",
       "      <td>0.000000</td>\n",
       "    </tr>\n",
       "    <tr>\n",
       "      <th>17069</th>\n",
       "      <td>0.047673</td>\n",
       "      <td>0.000000</td>\n",
       "      <td>0.091287</td>\n",
       "      <td>0.067420</td>\n",
       "      <td>0.228218</td>\n",
       "      <td>0.152145</td>\n",
       "      <td>0.062017</td>\n",
       "      <td>0.138013</td>\n",
       "      <td>0.091287</td>\n",
       "      <td>0.113592</td>\n",
       "      <td>...</td>\n",
       "      <td>0.000000</td>\n",
       "      <td>0.158114</td>\n",
       "      <td>0.158114</td>\n",
       "      <td>0.027116</td>\n",
       "      <td>0.039528</td>\n",
       "      <td>0.038348</td>\n",
       "      <td>0.000000</td>\n",
       "      <td>0.000000</td>\n",
       "      <td>0.0</td>\n",
       "      <td>1.000000</td>\n",
       "    </tr>\n",
       "  </tbody>\n",
       "</table>\n",
       "<p>17070 rows × 17070 columns</p>\n",
       "</div>"
      ],
      "text/plain": [
       "          0         1         2         3         4         5         6      \\\n",
       "0      1.000000  0.000000  0.043519  0.192847  0.130558  0.029013  0.029566   \n",
       "1      0.000000  1.000000  0.000000  0.113961  0.000000  0.000000  0.000000   \n",
       "2      0.043519  0.000000  1.000000  0.000000  0.083333  0.000000  0.056614   \n",
       "3      0.192847  0.113961  0.000000  1.000000  0.123091  0.041030  0.083624   \n",
       "4      0.130558  0.000000  0.083333  0.123091  1.000000  0.111111  0.113228   \n",
       "...         ...       ...       ...       ...       ...       ...       ...   \n",
       "17065  0.036564  0.000000  0.140028  0.000000  0.000000  0.000000  0.000000   \n",
       "17066  0.031435  0.055728  0.000000  0.000000  0.000000  0.000000  0.000000   \n",
       "17067  0.040291  0.000000  0.000000  0.056980  0.154303  0.000000  0.000000   \n",
       "17068  0.000000  0.000000  0.000000  0.000000  0.000000  0.000000  0.059131   \n",
       "17069  0.047673  0.000000  0.091287  0.067420  0.228218  0.152145  0.062017   \n",
       "\n",
       "          7         8         9      ...     17060     17061     17062  \\\n",
       "0      0.065795  0.000000  0.000000  ...  0.000000  0.000000  0.000000   \n",
       "1      0.000000  0.000000  0.000000  ...  0.080582  0.000000  0.000000   \n",
       "2      0.125988  0.000000  0.000000  ...  0.087039  0.000000  0.072169   \n",
       "3      0.046524  0.000000  0.000000  ...  0.064282  0.000000  0.000000   \n",
       "4      0.062994  0.000000  0.103695  ...  0.000000  0.057735  0.072169   \n",
       "...         ...       ...       ...  ...       ...       ...       ...   \n",
       "17065  0.000000  0.000000  0.000000  ...  0.000000  0.000000  0.060634   \n",
       "17066  0.045502  0.000000  0.000000  ...  0.000000  0.000000  0.104257   \n",
       "17067  0.000000  0.000000  0.000000  ...  0.000000  0.000000  0.000000   \n",
       "17068  0.000000  0.000000  0.000000  ...  0.000000  0.000000  0.000000   \n",
       "17069  0.138013  0.091287  0.113592  ...  0.000000  0.158114  0.158114   \n",
       "\n",
       "          17063     17064     17065     17066     17067  17068     17069  \n",
       "0      0.000000  0.037689  0.036564  0.031435  0.040291    0.0  0.047673  \n",
       "1      0.000000  0.000000  0.000000  0.055728  0.000000    0.0  0.000000  \n",
       "2      0.000000  0.000000  0.140028  0.000000  0.000000    0.0  0.091287  \n",
       "3      0.000000  0.000000  0.000000  0.000000  0.056980    0.0  0.067420  \n",
       "4      0.049507  0.144338  0.000000  0.000000  0.154303    0.0  0.228218  \n",
       "...         ...       ...       ...       ...       ...    ...       ...  \n",
       "17065  0.000000  0.060634  1.000000  0.050572  0.000000    0.0  0.038348  \n",
       "17066  0.000000  0.000000  0.050572  1.000000  0.000000    0.0  0.000000  \n",
       "17067  0.000000  0.066815  0.000000  0.000000  1.000000    0.0  0.000000  \n",
       "17068  0.051709  0.000000  0.000000  0.000000  0.000000    1.0  0.000000  \n",
       "17069  0.027116  0.039528  0.038348  0.000000  0.000000    0.0  1.000000  \n",
       "\n",
       "[17070 rows x 17070 columns]"
      ]
     },
     "execution_count": 70,
     "metadata": {},
     "output_type": "execute_result"
    }
   ],
   "source": [
    "sim_df = pd.DataFrame(sim_df)\n",
    "sim_df"
   ]
  },
  {
   "cell_type": "code",
   "execution_count": 71,
   "metadata": {},
   "outputs": [
    {
     "name": "stdout",
     "output_type": "stream",
     "text": [
      "(17070, 17070)\n"
     ]
    }
   ],
   "source": [
    "sim_df.index=collect_keys\n",
    "sim_df.columns =collect_keys\n",
    "print(sim_df.shape)"
   ]
  },
  {
   "cell_type": "code",
   "execution_count": 72,
   "metadata": {},
   "outputs": [],
   "source": [
    "#非常慢\n",
    "cluster_result = shc.linkage(sim_df.values, metric=\"cosine\", method=\"average\")"
   ]
  },
  {
   "cell_type": "code",
   "execution_count": 73,
   "metadata": {},
   "outputs": [
    {
     "data": {
      "text/plain": [
       "array([[1.38750000e+04, 1.67600000e+04, 0.00000000e+00, 2.00000000e+00],\n",
       "       [8.62700000e+03, 8.65300000e+03, 0.00000000e+00, 2.00000000e+00],\n",
       "       [7.10000000e+01, 1.03600000e+03, 0.00000000e+00, 2.00000000e+00],\n",
       "       ...,\n",
       "       [3.39960000e+04, 3.41350000e+04, 9.02404180e-01, 1.70670000e+04],\n",
       "       [1.05830000e+04, 3.41360000e+04, 9.05064430e-01, 1.70680000e+04],\n",
       "       [3.41280000e+04, 3.41370000e+04, 9.12554489e-01, 1.70700000e+04]])"
      ]
     },
     "execution_count": 73,
     "metadata": {},
     "output_type": "execute_result"
    }
   ],
   "source": [
    "cluster_result"
   ]
  },
  {
   "cell_type": "code",
   "execution_count": 74,
   "metadata": {},
   "outputs": [
    {
     "data": {
      "image/png": "[encoded data removed]",
      "text/plain": [
       "<Figure size 432x288 with 1 Axes>"
      ]
     },
     "metadata": {
      "needs_background": "light"
     },
     "output_type": "display_data"
    }
   ],
   "source": [
    "#非常慢\n",
    "dn = shc.dendrogram(cluster_result)"
   ]
  },
  {
   "cell_type": "code",
   "execution_count": 75,
   "metadata": {},
   "outputs": [],
   "source": [
    "sorted_collect_keys = [collect_keys[int(i)] for i in dn[\"ivl\"]]"
   ]
  },
  {
   "cell_type": "code",
   "execution_count": 76,
   "metadata": {},
   "outputs": [],
   "source": [
    "sorted_data_df = pd.DataFrame()\n",
    "for key in sorted_collect_keys:\n",
    "    for uid in collect_history[key]:\n",
    "        sorted_data_df = sorted_data_df.append({\"uid\": uid, \"history\": key}, ignore_index=True)"
   ]
  },
  {
   "cell_type": "code",
   "execution_count": 77,
   "metadata": {},
   "outputs": [],
   "source": [
    "prob_list = list()\n",
    "num_row, num_col = sorted_data_df.shape\n",
    "for idx, row in sorted_data_df.iterrows():\n",
    "    prv_sim, next_sim = 0, 0\n",
    "    cur_history = row[\"history\"]\n",
    "    if idx > 0:\n",
    "        prv_history = sorted_data_df[\"history\"].iloc[idx-1]\n",
    "        prv_sim = sim_df[cur_history][prv_history]\n",
    "    if idx < num_row-1:\n",
    "        next_history = sorted_data_df[\"history\"].iloc[idx+1]\n",
    "        next_sim = sim_df[cur_history][next_history]\n",
    "    prob_list.append(max(prv_sim, next_sim))     "
   ]
  },
  {
   "cell_type": "code",
   "execution_count": 78,
   "metadata": {},
   "outputs": [],
   "source": [
    "sorted_data_df[\"prob\"] = prob_list"
   ]
  },
  {
   "cell_type": "code",
   "execution_count": 124,
   "metadata": {},
   "outputs": [],
   "source": [
    "machine=sorted_data_df.loc[sorted_data_df[\"prob\"] >= 0.8]\n",
    "machine=machine[[\"uid\",\"history\",\"prob\"]]\n",
    "machine.to_csv(\"data/douban_machine.csv\")"
   ]
  },
  {
   "cell_type": "code",
   "execution_count": 80,
   "metadata": {},
   "outputs": [
    {
     "data": {
      "text/plain": [
       "[('20433', 41),\n",
       " ('76635', 15),\n",
       " ('77044', 13),\n",
       " ('77037', 10),\n",
       " ('77042', 10),\n",
       " ('76784', 9),\n",
       " ('76785', 9),\n",
       " ('77045', 8),\n",
       " ('20530', 7),\n",
       " ('76672', 7),\n",
       " ('20521', 6),\n",
       " ('76649', 6),\n",
       " ('76634', 5),\n",
       " ('76654', 5),\n",
       " ('76656', 5),\n",
       " ('76830', 5),\n",
       " ('77035', 4),\n",
       " ('20040', 3),\n",
       " ('20804', 3),\n",
       " ('51904', 3)]"
      ]
     },
     "execution_count": 80,
     "metadata": {},
     "output_type": "execute_result"
    }
   ],
   "source": [
    "Counter([i[0:5]for i in sorted(machine[\"uid\"])]).most_common(20)"
   ]
  },
  {
   "cell_type": "code",
   "execution_count": 81,
   "metadata": {},
   "outputs": [
    {
     "data": {
      "text/plain": [
       "(2116, 3)"
      ]
     },
     "execution_count": 81,
     "metadata": {},
     "output_type": "execute_result"
    }
   ],
   "source": [
    "machine.shape"
   ]
  },
  {
   "cell_type": "code",
   "execution_count": 89,
   "metadata": {},
   "outputs": [
    {
     "data": {
      "text/plain": [
       "5910"
      ]
     },
     "execution_count": 89,
     "metadata": {},
     "output_type": "execute_result"
    }
   ],
   "source": [
    "data[(data[\"name\"].str.contains(\"重启之极海听雷\")) & (data[\"rating\"].isin([4,5]))].shape[0]"
   ]
  },
  {
   "cell_type": "code",
   "execution_count": 92,
   "metadata": {},
   "outputs": [
    {
     "data": {
      "text/plain": [
       "1807"
      ]
     },
     "execution_count": 92,
     "metadata": {},
     "output_type": "execute_result"
    }
   ],
   "source": [
    "machine[machine['history'].str.contains(\"重启之极海听雷.*High\")].shape[0]"
   ]
  },
  {
   "cell_type": "code",
   "execution_count": 94,
   "metadata": {},
   "outputs": [
    {
     "data": {
      "text/plain": [
       "43"
      ]
     },
     "execution_count": 94,
     "metadata": {},
     "output_type": "execute_result"
    }
   ],
   "source": [
    "machine[machine['history'].str.contains(\"重启之极海听雷.*Low\")].shape[0]"
   ]
  },
  {
   "cell_type": "markdown",
   "metadata": {},
   "source": []
  },
  {
   "cell_type": "code",
   "execution_count": 122,
   "metadata": {},
   "outputs": [
    {
     "name": "stdout",
     "output_type": "stream",
     "text": [
      "        value\n",
      "key          \n",
      "高度疑似水军   1807\n",
      "普通观众     4103\n"
     ]
    },
    {
     "data": {
      "image/png": "[encoded data removed]",
      "text/plain": [
       "<Figure size 864x864 with 1 Axes>"
      ]
     },
     "metadata": {},
     "output_type": "display_data"
    }
   ],
   "source": [
    "tmp = pd.DataFrame([[\"高度疑似水军\", 1807], [\"普通观众\", 5910-1807]])\n",
    "tmp.columns = ['key', 'value']\n",
    "tmp = tmp.set_index('key')\n",
    "print(tmp)\n",
    "fig, axes = plt.subplots(figsize=(12,12))\n",
    "explode = (0, 0.1)\n",
    "tmp.plot.pie(fontsize=22, explode=explode, shadow=True, autopct='%1.0f%%',subplots=True, ax=axes)\n",
    "axes.set_title(\"《重启之极海听雷》豆瓣高分短评的水军占比\\n（水军的历史打分记录里：超过十部作品的打分顺序和分数完全一样）\", fontsize=25)\n",
    "axes.set_ylabel(\"占比\")\n",
    "plt.show()"
   ]
  },
  {
   "cell_type": "code",
   "execution_count": 106,
   "metadata": {},
   "outputs": [
    {
     "data": {
      "text/plain": [
       "3555"
      ]
     },
     "execution_count": 106,
     "metadata": {},
     "output_type": "execute_result"
    }
   ],
   "source": [
    "data[(data[\"name\"].str.contains(\"穿越火线\")) & (data[\"rating\"].isin([4,5]))].shape[0]"
   ]
  },
  {
   "cell_type": "code",
   "execution_count": 107,
   "metadata": {},
   "outputs": [
    {
     "data": {
      "text/plain": [
       "529"
      ]
     },
     "execution_count": 107,
     "metadata": {},
     "output_type": "execute_result"
    }
   ],
   "source": [
    "machine[machine['history'].str.contains(\"穿越火线.*High\")].shape[0]"
   ]
  },
  {
   "cell_type": "code",
   "execution_count": 108,
   "metadata": {},
   "outputs": [
    {
     "name": "stdout",
     "output_type": "stream",
     "text": [
      "        value\n",
      "key          \n",
      "高度疑似水军    529\n",
      "普通观众     3026\n"
     ]
    },
    {
     "data": {
      "image/png": "[encoded data removed]",
      "text/plain": [
       "<Figure size 864x864 with 1 Axes>"
      ]
     },
     "metadata": {},
     "output_type": "display_data"
    }
   ],
   "source": [
    "tmp = pd.DataFrame([[\"高度疑似水军\", 529], [\"普通观众\", 3555-529]])\n",
    "tmp.columns = ['key', 'value']\n",
    "tmp = tmp.set_index('key')\n",
    "print(tmp)\n",
    "fig, axes = plt.subplots(figsize=(12,12))\n",
    "explode = (0, 0.1)\n",
    "tmp.plot.pie(fontsize=22, explode=explode, shadow=True, autopct='%1.0f%%',subplots=True, ax=axes)\n",
    "axes.set_title(\"《穿越火线》豆瓣高分短评的水军占比\\n（水军的历史打分记录，打分时间，分数高度近似）\", fontsize=25)\n",
    "axes.set_ylabel(\"占比\")\n",
    "plt.show()"
   ]
  },
  {
   "cell_type": "code",
   "execution_count": 110,
   "metadata": {},
   "outputs": [
    {
     "data": {
      "text/plain": [
       "1006"
      ]
     },
     "execution_count": 110,
     "metadata": {},
     "output_type": "execute_result"
    }
   ],
   "source": [
    "data[(data[\"name\"].str.contains(\"且听凤鸣\")) & (data[\"rating\"].isin([4,5]))].shape[0]"
   ]
  },
  {
   "cell_type": "code",
   "execution_count": 111,
   "metadata": {},
   "outputs": [
    {
     "data": {
      "text/plain": [
       "341"
      ]
     },
     "execution_count": 111,
     "metadata": {},
     "output_type": "execute_result"
    }
   ],
   "source": [
    "machine[machine['history'].str.contains(\"且听凤鸣.*High\")].shape[0]"
   ]
  },
  {
   "cell_type": "code",
   "execution_count": 116,
   "metadata": {},
   "outputs": [
    {
     "data": {
      "text/plain": [
       "3103"
      ]
     },
     "execution_count": 116,
     "metadata": {},
     "output_type": "execute_result"
    }
   ],
   "source": [
    "data[(data[\"name\"].str.contains(\"琉璃\")) & (data[\"rating\"].isin([4,5]))].shape[0]"
   ]
  },
  {
   "cell_type": "code",
   "execution_count": 117,
   "metadata": {},
   "outputs": [
    {
     "data": {
      "text/plain": [
       "69"
      ]
     },
     "execution_count": 117,
     "metadata": {},
     "output_type": "execute_result"
    }
   ],
   "source": [
    "machine[machine['history'].str.contains(\"琉璃.*High\")].shape[0]"
   ]
  },
  {
   "cell_type": "code",
   "execution_count": 118,
   "metadata": {},
   "outputs": [
    {
     "data": {
      "text/plain": [
       "4114"
      ]
     },
     "execution_count": 118,
     "metadata": {},
     "output_type": "execute_result"
    }
   ],
   "source": [
    "data[(data[\"name\"].str.contains(\"以家人之名\")) & (data[\"rating\"].isin([4,5]))].shape[0]"
   ]
  },
  {
   "cell_type": "code",
   "execution_count": 119,
   "metadata": {},
   "outputs": [
    {
     "data": {
      "text/plain": [
       "94"
      ]
     },
     "execution_count": 119,
     "metadata": {},
     "output_type": "execute_result"
    }
   ],
   "source": [
    "machine[machine['history'].str.contains(\"以家人之名.*High\")].shape[0]"
   ]
  },
  {
   "cell_type": "code",
   "execution_count": 104,
   "metadata": {},
   "outputs": [
    {
     "data": {
      "text/plain": [
       "0.020338152413624112"
      ]
     },
     "execution_count": 104,
     "metadata": {},
     "output_type": "execute_result"
    }
   ],
   "source": [
    "83/4081.0"
   ]
  },
  {
   "cell_type": "code",
   "execution_count": null,
   "metadata": {},
   "outputs": [],
   "source": []
  }
 ],
 "metadata": {
  "kernelspec": {
   "display_name": "Python 3",
   "language": "python",
   "name": "python3"
  },
  "language_info": {
   "codemirror_mode": {
    "name": "ipython",
    "version": 3
   },
   "file_extension": ".py",
   "mimetype": "text/x-python",
   "name": "python",
   "nbconvert_exporter": "python",
   "pygments_lexer": "ipython3",
   "version": "3.6.10"
  }
 },
 "nbformat": 4,
 "nbformat_minor": 1
}
